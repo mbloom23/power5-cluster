{
  "nbformat": 4,
  "nbformat_minor": 0,
  "metadata": {
    "colab": {
      "provenance": []
    },
    "kernelspec": {
      "name": "python3",
      "display_name": "Python 3"
    }
  },
  "cells": [
    {
      "cell_type": "code",
      "metadata": {
        "id": "RbfuVxFx3WyI"
      },
      "source": [
        "# Importing Analytic Tools\n",
        "import numpy as np\n",
        "import pandas as pd\n",
        "import matplotlib.pyplot as plt\n",
        "from sklearn.cluster import KMeans\n",
        "from sklearn.cluster import AgglomerativeClustering"
      ],
      "execution_count": null,
      "outputs": []
    },
    {
      "cell_type": "code",
      "metadata": {
        "id": "8VuLNfirAL5F"
      },
      "source": [
        "# Accessing the data from Github repo\n",
        "url = 'https://raw.githubusercontent.com/Kem98m/Power-Five-Conference-Data/main/maindata%20-%20locationdata.csv'\n",
        "data = pd.read_csv(url)"
      ],
      "execution_count": null,
      "outputs": []
    },
    {
      "cell_type": "code",
      "metadata": {
        "colab": {
          "base_uri": "https://localhost:8080/",
          "height": 313
        },
        "id": "Id0_x5yaQww1",
        "outputId": "b66fa156-8efe-4a93-c21a-59b1bd465e4f"
      },
      "source": [
        "#summary statistics\n",
        "data.describe()\n",
        "plt.hist(data['# of NFL Players'])\n",
        "plt.xlabel('Number of NFL Players')\n",
        "plt.title('Cumulative Number of NFL Players from each school')\n"
      ],
      "execution_count": null,
      "outputs": [
        {
          "output_type": "execute_result",
          "data": {
            "text/plain": [
              "Text(0.5, 1.0, 'Cumulative Number of NFL Players from each school')"
            ]
          },
          "metadata": {
            "tags": []
          },
          "execution_count": 4
        },
        {
          "output_type": "display_data",
          "data": {
            "image/png": "[encoded data removed]",
            "text/plain": [
              "<Figure size 432x288 with 1 Axes>"
            ]
          },
          "metadata": {
            "tags": [],
            "needs_background": "light"
          }
        }
      ]
    },
    {
      "cell_type": "code",
      "metadata": {
        "id": "PMVTzhMiBhC_",
        "colab": {
          "base_uri": "https://localhost:8080/",
          "height": 297
        },
        "outputId": "e05e3ae3-f649-4c92-c55c-89eed555babe"
      },
      "source": [
        "# %% Hierarchical Clustering, location data only \n",
        "\n",
        "# Fetch location data and transform\n",
        "longitude = data['Longitude'].to_numpy()\n",
        "latitude = data['Latitude'].to_numpy()\n",
        "names = data['Name'].to_numpy()\n",
        "confs = data['Conference'].to_numpy()\n",
        "X = np.column_stack((longitude, latitude))\n",
        "\n",
        "# hierarchical clustering, complete linkage, n=5\n",
        "hierarch = AgglomerativeClustering(n_clusters=5,linkage='complete').fit(X)\n",
        "clusters = hierarch.labels_\n",
        "locationsorted = np.column_stack((names,confs,longitude, latitude, clusters))\n",
        "locationsorted = locationsorted[np.argsort(locationsorted[:,1])]\n",
        "\n",
        "# Plot the clusters\n",
        "fig, ax = plt.subplots(num=1,clear=True)\n",
        "for k in range(0, len(clusters)): \n",
        "  if clusters[k] == 3: \n",
        "    acc, = ax.plot(longitude[k], latitude[k], 'r.')\n",
        "acc.set_label('ACC')\n",
        "\n",
        "for k in range(0, len(clusters)): \n",
        "  if clusters[k] == 1: \n",
        "    sec, = ax.plot(longitude[k], latitude[k], 'b.')\n",
        "sec.set_label('SEC')\n",
        "for k in range(0, len(clusters)): \n",
        "  if clusters[k] == 0: \n",
        "    big_12, = ax.plot(longitude[k], latitude[k], 'k.')\n",
        "big_12.set_label('Big 12')\n",
        "for k in range(0, len(clusters)): \n",
        "  if clusters[k] == 4: \n",
        "    big_10, = ax.plot(longitude[k], latitude[k], 'g.')\n",
        "big_10.set_label('Big Ten')\n",
        "for k in range(0, len(clusters)): \n",
        "  if clusters[k] == 2: \n",
        "    pac_12, = ax.plot(longitude[k], latitude[k], 'm.')\n",
        "pac_12.set_label('Pac-12')\n",
        "ax.legend()\n",
        "ax.set_xlabel('Longitude')\n",
        "ax.set_ylabel('Latitude')\n",
        "ax.set_title('Hierarchical Clustering Based on Geographic Data')\n",
        "fig.tight_layout()"
      ],
      "execution_count": null,
      "outputs": [
        {
          "output_type": "display_data",
          "data": {
            "image/png": "[encoded data removed]",
            "text/plain": [
              "<Figure size 432x288 with 1 Axes>"
            ]
          },
          "metadata": {
            "tags": [],
            "needs_background": "light"
          }
        }
      ]
    },
    {
      "cell_type": "code",
      "metadata": {
        "colab": {
          "base_uri": "https://localhost:8080/",
          "height": 297
        },
        "id": "jIlXtbcnAi1v",
        "outputId": "846ba418-bbd4-4fa8-a4be-c555d1e5e5dd"
      },
      "source": [
        "# %% Hierarchical Clustering, Historic # of NFL Players\n",
        "\n",
        "# Fetch location data and transform\n",
        "players = data['# of NFL Players'].to_numpy().reshape(-1,1)\n",
        "city_pop = data['Home City Population (Thousands)'].to_numpy().reshape(-1,1)\n",
        "#X = np.column_stack((players))\n",
        "\n",
        "# hierarchical clustering, complete linkage, n=5\n",
        "hierarch2 = AgglomerativeClustering(n_clusters=5,linkage='complete').fit(players)\n",
        "clusters2 = hierarch2.labels_\n",
        "playersorted = np.column_stack((confs, clusters2))\n",
        "playersorted = playersorted[np.argsort(locationsorted[:,0])]\n",
        "\n",
        "# Plot the clusters\n",
        "fig, ax = plt.subplots(num=1,clear=True)\n",
        "for k in range(0, len(clusters2)): \n",
        "  if clusters2[k] == 1: \n",
        "    acc, = ax.plot(longitude[k], latitude[k], 'r.')\n",
        "acc.set_label('ACC')\n",
        "\n",
        "for k in range(0, len(clusters2)): \n",
        "  if clusters2[k] == 3: \n",
        "    sec, = ax.plot(longitude[k], latitude[k], 'b.')\n",
        "sec.set_label('SEC')\n",
        "for k in range(0, len(clusters2)): \n",
        "  if clusters2[k] == 2: \n",
        "    big_12, = ax.plot(longitude[k], latitude[k], 'k.')\n",
        "big_12.set_label('Big 12')\n",
        "for k in range(0, len(clusters2)): \n",
        "  if clusters2[k] == 4: \n",
        "    big_10, = ax.plot(longitude[k], latitude[k], 'g.')\n",
        "big_10.set_label('Big Ten')\n",
        "for k in range(0, len(clusters2)): \n",
        "  if clusters2[k] == 0: \n",
        "    pac_12, = ax.plot(longitude[k], latitude[k], 'm.')\n",
        "pac_12.set_label('Pac-12')\n",
        "ax.legend()\n",
        "ax.set_xlabel('Longitude')\n",
        "ax.set_ylabel('Latitude')\n",
        "ax.set_title('Hierarchical Clustering Based on Historic # of NFL Players')\n",
        "fig.tight_layout()\n"
      ],
      "execution_count": null,
      "outputs": [
        {
          "output_type": "display_data",
          "data": {
            "image/png": "[encoded data removed]",
            "text/plain": [
              "<Figure size 432x288 with 1 Axes>"
            ]
          },
          "metadata": {
            "tags": [],
            "needs_background": "light"
          }
        }
      ]
    },
    {
      "cell_type": "code",
      "metadata": {
        "id": "DlAIU29RCDsH",
        "colab": {
          "base_uri": "https://localhost:8080/",
          "height": 297
        },
        "outputId": "e71247cc-1352-46cf-83ed-d192a3bcb763"
      },
      "source": [
        "# %% Hierarchical Clustering, Student Population\n",
        "\n",
        "# Fetch location data and transform\n",
        "student_pop = data['Student Population'].to_numpy().reshape(-1,1)\n",
        "X = np.column_stack((city_pop, student_pop))\n",
        "\n",
        "# hierarchical clustering, complete linkage, n=5\n",
        "hierarch3 = AgglomerativeClustering(n_clusters=5,linkage='complete').fit(student_pop)\n",
        "clusters3 = hierarch3.labels_\n",
        "popsorted = np.column_stack((confs, clusters3))\n",
        "popsorted = popsorted[np.argsort(popsorted[:,0])]\n",
        "\n",
        "# Plot the clusters\n",
        "fig, ax = plt.subplots(num=1,clear=True)\n",
        "for k in range(0, len(clusters3)): \n",
        "  if clusters3[k] == 4: \n",
        "    acc, = ax.plot(longitude[k], latitude[k], 'r.')\n",
        "acc.set_label('ACC')\n",
        "\n",
        "for k in range(0, len(clusters3)): \n",
        "  if clusters3[k] == 3: \n",
        "    sec, = ax.plot(longitude[k], latitude[k], 'b.')\n",
        "sec.set_label('SEC')\n",
        "for k in range(0, len(clusters3)): \n",
        "  if clusters3[k] == 0: \n",
        "    big_12, = ax.plot(longitude[k], latitude[k], 'k.')\n",
        "big_12.set_label('Big 12')\n",
        "for k in range(0, len(clusters3)): \n",
        "  if clusters3[k] == 1: \n",
        "    big_10, = ax.plot(longitude[k], latitude[k], 'g.')\n",
        "big_10.set_label('Big Ten')\n",
        "for k in range(0, len(clusters3)): \n",
        "  if clusters3[k] == 2: \n",
        "    pac_12, = ax.plot(longitude[k], latitude[k], 'm.')\n",
        "pac_12.set_label('Pac-12')\n",
        "ax.legend()\n",
        "ax.set_xlabel('Longitude')\n",
        "ax.set_ylabel('Latitude')\n",
        "ax.set_title('Hierarchical Clustering Based on Student Population')\n",
        "fig.tight_layout()"
      ],
      "execution_count": null,
      "outputs": [
        {
          "output_type": "display_data",
          "data": {
            "image/png": "[encoded data removed]",
            "text/plain": [
              "<Figure size 432x288 with 1 Axes>"
            ]
          },
          "metadata": {
            "tags": [],
            "needs_background": "light"
          }
        }
      ]
    },
    {
      "cell_type": "code",
      "metadata": {
        "id": "LQTywLjfDBhU"
      },
      "source": [
        "# %% Hierarchical Clustering, Graduation Rate\n",
        "\n",
        "# Fetch location data and transform\n",
        "latitude = data['Latitude'].to_numpy()\n",
        "longitude = data['Longitude'].to_numpy()\n",
        "student_pop = data['Student Population'].to_numpy()\n",
        "gradrate = data['GRAD_RATE_2011_SA'].to_numpy()\n",
        "\n",
        "X = np.column_stack((longitude, latitude, gradrate))\n",
        "\n",
        "# hierarchical clustering, complete linkage, n=5\n",
        "hierarch4 = AgglomerativeClustering(n_clusters=5,linkage='complete').fit(X)\n",
        "clusters4 = hierarch4.labels_\n",
        "\n",
        "gradsorted = np.column_stack((confs, clusters4))\n",
        "gradsorted = gradsorted[np.argsort(gradsorted[:,0])]\n",
        "\n",
        "# Plot the clusters\n",
        "fig, ax = plt.subplots(num=1,clear=True)\n",
        "for k in range(0, len(clusters4)): \n",
        "  if clusters4[k] == 0: \n",
        "    acc, = ax.plot(longitude[k], latitude[k], 'r.')\n",
        "acc.set_label('ACC')\n",
        "\n",
        "for k in range(0, len(clusters4)): \n",
        "  if clusters4[k] == 1: \n",
        "    sec, = ax.plot(longitude[k], latitude[k], 'b.')\n",
        "sec.set_label('SEC')\n",
        "for k in range(0, len(clusters4)): \n",
        "  if clusters4[k] == 2: \n",
        "    big_12, = ax.plot(longitude[k], latitude[k], 'k.')\n",
        "big_12.set_label('Big 12')\n",
        "for k in range(0, len(clusters4)): \n",
        "  if clusters4[k] == 3: \n",
        "    big_10, = ax.plot(longitude[k], latitude[k], 'g.')\n",
        "big_10.set_label('Big Ten')\n",
        "for k in range(0, len(clusters4)): \n",
        "  if clusters4[k] == 4: \n",
        "    pac_12, = ax.plot(longitude[k], latitude[k], 'm.')\n",
        "pac_12.set_label('Pac-12')\n",
        "ax.legend()\n",
        "ax.set_xlabel('Longitude')\n",
        "ax.set_ylabel('Latitude')\n",
        "ax.set_title('Hierarchical Clustering Based on Historic # of NFL Players')\n",
        "fig.tight_layout()"
      ],
      "execution_count": null,
      "outputs": []
    },
    {
      "cell_type": "code",
      "metadata": {
        "colab": {
          "base_uri": "https://localhost:8080/"
        },
        "id": "Tkrx6IGJOH-B",
        "outputId": "2f511ea9-3b8f-4c33-a193-76ef5657328d"
      },
      "source": [
        "from prettytable import PrettyTable\n",
        "    \n",
        "x = PrettyTable()\n",
        "\n",
        "column_names = [\"University\", \"Actual Conference\", \"Location (Latitude, Longitude)\", \"Historic # of NFL Players\", \"Student Population\"]\n",
        "\n",
        "x.add_column(column_names[0], locationsorted[:,0] )\n",
        "x.add_column(column_names[1], locationsorted[:,1])  \n",
        "x.add_column(column_names[2], locationsorted[:,4])  \n",
        "x.add_column(column_names[3], playersorted[:,1])\n",
        "x.add_column(column_names[4], popsorted[:,1])\n",
        "\n",
        "print(x)\n"
      ],
      "execution_count": null,
      "outputs": [
        {
          "output_type": "stream",
          "text": [
            "+-------------------------------------------+-------------------+--------------------------------+---------------------------+--------------------+\n",
            "|                 University                | Actual Conference | Location (Latitude, Longitude) | Historic # of NFL Players | Student Population |\n",
            "+-------------------------------------------+-------------------+--------------------------------+---------------------------+--------------------+\n",
            "|           University of Virginia          |        ACC        |               3                |             1             |         2          |\n",
            "|      North Carolina State University      |        ACC        |               3                |             0             |         4          |\n",
            "|               Virginia Tech               |        ACC        |               3                |             0             |         4          |\n",
            "|          University of Pittsburgh         |        ACC        |               3                |             1             |         2          |\n",
            "|                  Syracuse                 |        ACC        |               3                |             4             |         2          |\n",
            "|                Georgia Tech               |        ACC        |               1                |             1             |         4          |\n",
            "|          Florida State University         |        ACC        |               1                |             0             |         1          |\n",
            "| University of North Carolina, Chapel Hill |        ACC        |               3                |             4             |         2          |\n",
            "|             Clemson University            |        ACC        |               1                |             1             |         2          |\n",
            "|               Boston College              |        ACC        |               3                |             1             |         0          |\n",
            "|          University of Louisville         |        ACC        |               1                |             0             |         2          |\n",
            "|                Wake Forest                |        ACC        |               3                |             1             |         0          |\n",
            "|              Duke University              |        ACC        |               3                |             1             |         0          |\n",
            "|            University of Miami            |        ACC        |               1                |             0             |         0          |\n",
            "|            University of Kansas           |       Big 12      |               4                |             0             |         2          |\n",
            "|           University of Oklahoma          |       Big 12      |               0                |             0             |         2          |\n",
            "|       University of Texas at Austin       |       Big 12      |               0                |             0             |         1          |\n",
            "|                 Texas Tech                |       Big 12      |               0                |             4             |         4          |\n",
            "|         Texas Christian University        |       Big 12      |               0                |             2             |         0          |\n",
            "|          West Virginia University         |       Big 12      |               3                |             1             |         2          |\n",
            "|                   Baylor                  |       Big 12      |               0                |             0             |         0          |\n",
            "|               Oklahoma State              |       Big 12      |               0                |             0             |         2          |\n",
            "|                 Iowa State                |       Big 12      |               4                |             1             |         4          |\n",
            "|                Kansas State               |       Big 12      |               4                |             4             |         2          |\n",
            "|             Purdue University             |      Big Ten      |               4                |             0             |         1          |\n",
            "|    University of Maryland, College Park   |      Big Ten      |               3                |             4             |         1          |\n",
            "|          University of Minnesota          |      Big Ten      |               4                |             1             |         1          |\n",
            "|             University of Iowa            |      Big Ten      |               4                |             1             |         2          |\n",
            "|  University of Illinois Urbana-Champaign  |      Big Ten      |               4                |             4             |         1          |\n",
            "|      University of Nebraska, Lincoln      |      Big Ten      |               4                |             1             |         2          |\n",
            "|      Indiana University, Bloomington      |      Big Ten      |               1                |             0             |         1          |\n",
            "|                 Penn State                |      Big Ten      |               3                |             0             |         1          |\n",
            "|           University of Michigan          |      Big Ten      |               4                |             1             |         1          |\n",
            "|               Michigan State              |      Big Ten      |               4                |             1             |         1          |\n",
            "|         The Ohio State University         |      Big Ten      |               4                |             1             |         3          |\n",
            "|      University of Wisconsin-Madison      |      Big Ten      |               4                |             4             |         1          |\n",
            "|                Northwestern               |      Big Ten      |               4                |             4             |         2          |\n",
            "|                  Rutgers                  |      Big Ten      |               3                |             3             |         1          |\n",
            "|          University of Notre Dame         |    Independent    |               4                |             2             |         0          |\n",
            "|           U.S. Military Academy           |    Independent    |               3                |             1             |         0          |\n",
            "|          Brigham Young University         |    Independent    |               0                |             1             |         4          |\n",
            "|    University of Massachusetts, Amherst   |    Independent    |               3                |             4             |         2          |\n",
            "|             University of Utah            |       Pac 12      |               0                |             1             |         4          |\n",
            "|          University of Washington         |       Pac 12      |               2                |             4             |         1          |\n",
            "|     University of Southern California     |       Pac 12      |               2                |             0             |         1          |\n",
            "|            University of Oregon           |       Pac 12      |               2                |             1             |         2          |\n",
            "|               Arizona State               |       Pac 12      |               0                |             4             |         1          |\n",
            "|   University of California, Los Angeles   |       Pac 12      |               2                |             1             |         1          |\n",
            "|      University of Colorado, Boulder      |       Pac 12      |               0                |             4             |         4          |\n",
            "|              Washington State             |       Pac 12      |               2                |             0             |         2          |\n",
            "|     University of California, Berkeley    |       Pac 12      |               2                |             0             |         1          |\n",
            "|                Oregon State               |       Pac 12      |               2                |             0             |         2          |\n",
            "|           University of Arizona           |       Pac 12      |               0                |             1             |         1          |\n",
            "|                  Stanford                 |       Pac 12      |               2                |             0             |         0          |\n",
            "|                   Auburn                  |        SEC        |               1                |             1             |         2          |\n",
            "|         Louisiana State University        |        SEC        |               1                |             0             |         2          |\n",
            "|                 Vanderbilt                |        SEC        |               1                |             0             |         0          |\n",
            "|        Mississippi State University       |        SEC        |               1                |             1             |         2          |\n",
            "|                 Texas A&M                 |        SEC        |               0                |             1             |         3          |\n",
            "|         University of Mississippi         |        SEC        |               1                |             1             |         2          |\n",
            "|           University of Kentucky          |        SEC        |               1                |             0             |         2          |\n",
            "|        University of South Carolina       |        SEC        |               3                |             3             |         4          |\n",
            "|           University of Arkansas          |        SEC        |               0                |             0             |         2          |\n",
            "|           University of Florida           |        SEC        |               1                |             2             |         1          |\n",
            "|           University of Georgia           |        SEC        |               1                |             1             |         4          |\n",
            "|      University of Missouri, Columbia     |        SEC        |               4                |             4             |         2          |\n",
            "|           University of Alabama           |        SEC        |               1                |             0             |         4          |\n",
            "|     University of Tennessee, Knoxville    |        SEC        |               1                |             0             |         2          |\n",
            "+-------------------------------------------+-------------------+--------------------------------+---------------------------+--------------------+\n"
          ],
          "name": "stdout"
        }
      ]
    },
    {
      "cell_type": "code",
      "metadata": {
        "id": "742mSZdTYNjC"
      },
      "source": [
        "\n",
        "\n",
        "#newdata= data.dropna()\n",
        "data\n",
        "newdata = data[['Conference', '# of NFL Players', 'Latitude', 'Longitude' ]].copy()\n",
        "\n",
        "#conf = {'Pac 12':0, 'SEC':1, 'Big 12':2, 'ACC': 3, 'Big Ten':4, 'Independent':5}\n",
        "for i in range(len(newdata.Conference)):\n",
        "  if (newdata.Conference[i] =='Pac 12'):\n",
        "    newdata.Conference[i] = 0\n",
        "  elif (newdata.Conference[i] == 'SEC'):\n",
        "    newdata.Conference[i] = 1\n",
        "  elif (newdata.Conference[i] == 'Big 12'):\n",
        "    newdata.Conference[i] = 2\n",
        "  elif (newdata.Conference[i] == 'ACC'):\n",
        "    newdata.Conference[i] = 3\n",
        "  elif (newdata.Conference[i] == 'Big Ten'):\n",
        "    newdata.Conference[i] = 4\n",
        "  else:\n",
        "    newdata.Conference[i] = 5\n",
        "pd.DataFrame(newdata)\n",
        "print(newdata)\n",
        "\n",
        "from sklearn.cluster import KMeans\n",
        "kmeans= KMeans(n_clusters=6)\n",
        "kmeans.fit(newdata)\n",
        "y_means = kmeans.fit_predict(newdata)\n",
        "plt.xlabel('Actual Conference')\n",
        "plt.ylabel('Grad rate 2011')\n",
        "for i in range(len(y_means)-1):\n",
        "  if (y_means[i] ==0):\n",
        "    plt.scatter(newdata.iloc[i,0], newdata.iloc[i,1], s=100, c='red')\n",
        "  elif (y_means[i] ==1):\n",
        "    plt.scatter(newdata.iloc[i,0], newdata.iloc[i,1], s=100, c='black')\n",
        "  elif (y_means[i] ==2):\n",
        "    plt.scatter(newdata.iloc[i,0], newdata.iloc[i,1], s=100, c='blue')\n",
        "  elif (y_means[i] == 3):\n",
        "    plt.scatter(newdata.iloc[i,0], newdata.iloc[i,1], s=100, c='cyan')\n",
        "  else:\n",
        "    plt.scatter(newdata.iloc[i,0], newdata.iloc[i,1], s=100, c='yellow')"
      ],
      "execution_count": null,
      "outputs": []
    },
    {
      "cell_type": "code",
      "metadata": {
        "colab": {
          "base_uri": "https://localhost:8080/"
        },
        "id": "8UpEFzNTGRug",
        "outputId": "add4b23c-92db-4ba9-be7a-0dfb0dd54fdf"
      },
      "source": [
        "from sklearn.cluster import KMeans \n",
        "newdata = data[['# of NFL Players', 'Home City Population (Thousands)', 'Student Population']].copy()\n",
        "newtarget = data[['Conference']].copy()\n",
        "\n",
        "kmeans = KMeans(n_clusters=5, random_state=0).fit(newdata)\n",
        "print(kmeans)\n",
        "\n",
        "#kmeans = KMeans(n_clusters=5, random_state=42).fit(numOfPlayers, conference)\n",
        "print(newdata)\n"
      ],
      "execution_count": null,
      "outputs": [
        {
          "output_type": "stream",
          "text": [
            "KMeans(algorithm='auto', copy_x=True, init='k-means++', max_iter=300,\n",
            "       n_clusters=5, n_init=10, n_jobs=None, precompute_distances='auto',\n",
            "       random_state=0, tol=0.0001, verbose=0)\n",
            "    # of NFL Players  Home City Population (Thousands)  Student Population\n",
            "0                296                              1633               51585\n",
            "1                317                                64               30440\n",
            "2                239                               138               17217\n",
            "3                241                               684               14720\n",
            "4                172                               116               33517\n",
            "..               ...                               ...                 ...\n",
            "63               130                               692               12824\n",
            "64               170                                44               34683\n",
            "65               147                                42                8401\n",
            "66               196                                33               31478\n",
            "67               224                                31               26864\n",
            "\n",
            "[68 rows x 3 columns]\n"
          ],
          "name": "stdout"
        }
      ]
    }
  ]
}